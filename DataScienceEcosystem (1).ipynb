{
 "cells": [
  {
   "cell_type": "markdown",
   "id": "c9634ea7",
   "metadata": {},
   "source": [
    "# Data Science Tools and Ecosystem"
   ]
  },
  {
   "cell_type": "markdown",
   "id": "0093a838",
   "metadata": {},
   "source": [
    "In this notebook, we provide a comprehensive summary of Data Science Tools and the associated Ecosystem. Explore key tools, methodologies, and the broader ecosystem that contribute to the dynamic field of data science."
   ]
  },
  {
   "cell_type": "markdown",
   "id": "07f9366d",
   "metadata": {},
   "source": [
    "Some of the popular languages that Data Scientists use are:\n",
    "\n",
    "1. **Python:** Widely used for its simplicity and versatility, Python has a rich ecosystem of libraries such as NumPy, Pandas, and Scikit-learn.\n",
    "\n",
    "2. **R:** Specifically designed for statistical computing and data analysis, R is favored for its statistical packages and visualization capabilities.\n",
    "\n",
    "3. **SQL:** Essential for working with databases, SQL (Structured Query Language) is crucial for managing and analyzing structured data.\n",
    "\n",
    "4. **Julia:** Known for its speed and performance, Julia is gaining popularity in data science, particularly for high-performance computing tasks.\n",
    "\n",
    "5. **Scala:** Often used with Apache Spark, Scala is a versatile language that combines object-oriented and functional programming, suitable for big data processing.\n"
   ]
  },
  {
   "cell_type": "markdown",
   "id": "91351634",
   "metadata": {},
   "source": [
    "Some of the commonly used libraries by Data Scientists include:\n",
    "\n",
    "1. **NumPy:** A fundamental package for scientific computing with Python, providing support for large, multi-dimensional arrays and matrices.\n",
    "\n",
    "2. **Pandas:** A powerful library for data manipulation and analysis, offering data structures like DataFrames for efficient data handling.\n",
    "\n",
    "3. **Scikit-learn:** An open-source machine learning library that provides simple and efficient tools for data analysis and modeling, built on NumPy, SciPy, and Matplotlib.\n",
    "\n",
    "4. **Matplotlib:** A widely used plotting library for creating static, animated, and interactive visualizations in Python.\n",
    "\n",
    "5. **TensorFlow:** An open-source machine learning framework developed by Google, widely used for building and training deep learning models.\n",
    "\n",
    "6. **PyTorch:** A deep learning library with a dynamic computational graph, popular for its ease of use and flexibility.\n",
    "\n",
    "7. **Seaborn:** A statistical data visualization library based on Matplotlib, providing a high-level interface for drawing attractive and informative statistical graphics."
   ]
  },
  {
   "cell_type": "markdown",
   "id": "17507137",
   "metadata": {},
   "source": [
    "## Data Science Tools\n",
    "\n",
    "| Data Science Tools         |\n",
    "| -------------------------- |\n",
    "| Jupyter Notebooks          |\n",
    "| RStudio                    |\n",
    "| VS Code with Python Plugin |\n"
   ]
  },
  {
   "cell_type": "markdown",
   "id": "b925ef70",
   "metadata": {},
   "source": [
    "### Below are a few examples of evaluating arithmetic expressions in Python:\n"
   ]
  },
  {
   "cell_type": "code",
   "execution_count": 1,
   "id": "526dcd49",
   "metadata": {},
   "outputs": [
    {
     "data": {
      "text/plain": [
       "17"
      ]
     },
     "execution_count": 1,
     "metadata": {},
     "output_type": "execute_result"
    }
   ],
   "source": [
    "# This is a simple arithmetic expression to multiply then add integers.\n",
    "result = (3 * 4) + 5\n",
    "result\n"
   ]
  },
  {
   "cell_type": "code",
   "execution_count": 2,
   "id": "1427c89b",
   "metadata": {},
   "outputs": [
    {
     "data": {
      "text/plain": [
       "3.3333333333333335"
      ]
     },
     "execution_count": 2,
     "metadata": {},
     "output_type": "execute_result"
    }
   ],
   "source": [
    "# This will convert 200 minutes to hours by dividing by 60.\n",
    "minutes = 200\n",
    "hours = minutes / 60\n",
    "hours\n"
   ]
  },
  {
   "cell_type": "markdown",
   "id": "a6717f86",
   "metadata": {},
   "source": [
    "## Objectives:\n",
    "\n",
    "- Create a Jupyter Notebook with markdown and code cells.\n",
    "- List examples of languages, libraries, and tools used in Data Science.\n",
    "- Share your Jupyter Notebook publicly on GitHub.\n",
    "- Evaluate notebooks submitted by your peers using the provided rubric.\n",
    "- Demonstrate proficiency in Data Science toolkit knowledge.\n"
   ]
  },
  {
   "cell_type": "markdown",
   "id": "07c93fa8",
   "metadata": {},
   "source": [
    "## Author\n",
    "\n",
    "Shriram Aritakula\n"
   ]
  },
  {
   "cell_type": "code",
   "execution_count": null,
   "id": "0f76928f",
   "metadata": {},
   "outputs": [],
   "source": []
  }
 ],
 "metadata": {
  "kernelspec": {
   "display_name": "Python 3 (ipykernel)",
   "language": "python",
   "name": "python3"
  },
  "language_info": {
   "codemirror_mode": {
    "name": "ipython",
    "version": 3
   },
   "file_extension": ".py",
   "mimetype": "text/x-python",
   "name": "python",
   "nbconvert_exporter": "python",
   "pygments_lexer": "ipython3",
   "version": "3.10.9"
  }
 },
 "nbformat": 4,
 "nbformat_minor": 5
}
